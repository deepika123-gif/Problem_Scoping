{
 "cells": [
  {
   "cell_type": "markdown",
   "id": "556b8f11",
   "metadata": {},
   "source": [
    "<div style=\"background-color:rgb(31, 174, 222); padding: 10px; height: 70px; border-radius: 15px;\">\n",
    "    <div style=\"font-family: 'Georgia', serif; font-size: 20px; padding: 10px; text-align: right; position: absolute; right: 20px;\">\n",
    "        Deepika <br>\n",
    "        <span style=\"font-family: 'Arial', sans-serif;font-size: 12px; color: #0a0a0a;\">AIML Trainee | AI/ML bootcamp</span> <!--- Suhana | CodroidHub Private Limited | AI/ML Consultant --->\n",
    "    </div>\n",
    "</div>"
   ]
  },
  {
   "cell_type": "markdown",
   "id": "8f9be04f",
   "metadata": {},
   "source": [
    "<div style=\"background-color: #002147; padding: 10px; text-align: center; color: white; font-size: 32px; font-family: 'Arial', sans-serif;\">\n",
    "     Real-World Scenario: Water Shortage in a Village  <br>\n",
    "    <h3 style=\"text-align: center; color: white; font-size: 15px; font-family: 'Arial', sans-serif;\">Problem_5</h3>\n",
    "</div>"
   ]
  },
  {
   "cell_type": "markdown",
   "id": "ba5d530b",
   "metadata": {},
   "source": [
    "<div style=\"background-color: #6495ED; color: black; padding: 4px;\">\n",
    "    <h1> 4W's Problem Scoping\n",
    "</h1> </div>\n"
   ]
  },
  {
   "cell_type": "markdown",
   "id": "e8e5ada2",
   "metadata": {},
   "source": [
    "<div style=\"background-color: lightgreen; color: black; padding: 4px;\">\n",
    "<h1><ul><li>\n",
    "What is the problem?\n",
    "\n",
    "</li></ul>\n",
    "</h1></div>"
   ]
  },
  {
   "cell_type": "markdown",
   "id": "e14cb31f",
   "metadata": {},
   "source": [
    "<h2><p>The village is facing a<b> serious shortage of clean water</b> for daily needs such as:</p></h2>\n",
    "<h2><p><ul><li>Drinking</li>\n",
    "<li>Cooking</li>\n",
    "<li>Washing</li>\n",
    "<li>Irrigating crops</li>\n",
    "<li>Feeding livestock</li>\n",
    "</ul>\n",
    "<p>This shortage affects not only the people but also their agriculture, health, and livelihood. Some villagers have to walk long distances to fetch water. Others rely on dirty or unsafe water sources, which can cause diseases.</p></p></h2>"
   ]
  },
  {
   "cell_type": "markdown",
   "id": "6c476e2c",
   "metadata": {},
   "source": [
    "<div style=\"background-color: lightgreen; color: black; padding: 4px;\">\n",
    "<h1><ul><li>\n",
    "Who is Affected?\n",
    "</li></ul>\n",
    "</h1></div>"
   ]
  },
  {
   "cell_type": "markdown",
   "id": "025d4ae4",
   "metadata": {},
   "source": [
    "<h2><p><b>Villagers\n",
    "</b>\n",
    "<ul><li>Families are struggling to get enough water for basic needs.</li>\n",
    "<li>Women and children often carry the burden of collecting water, spending hours every day doing so.</li>\n",
    "<ul>\n",
    "</p></h2>"
   ]
  },
  {
   "cell_type": "markdown",
   "id": "bfb8a49b",
   "metadata": {},
   "source": [
    "<h2><p><b>Farmers\n",
    "</b>\n",
    "<ul><li>They depend on water for irrigation. Without it, crops dry up and they lose income.</li>\n",
    "<ul>\n",
    "</p></h2>"
   ]
  },
  {
   "cell_type": "markdown",
   "id": "5f2ebcba",
   "metadata": {},
   "source": [
    "<h2><p><b>Livestock Owners\n",
    "\n",
    "</b>\n",
    "<ul><li>Animals fall sick or die due to lack of drinking water.\n",
    "\n",
    "</li>\n",
    "<ul>\n",
    "</p></h2>"
   ]
  },
  {
   "cell_type": "markdown",
   "id": "ae77b475",
   "metadata": {},
   "source": [
    "\n",
    "<h2><p><b> Schools and Health Centers</b>\n",
    "<ul><li>Hygiene suffers due to lack of water for toilets and handwashing.</li>\n",
    "<ul>\n",
    "</p></h2>"
   ]
  },
  {
   "cell_type": "markdown",
   "id": "5b5d8ce4",
   "metadata": {},
   "source": [
    "<div style=\"background-color: lightgreen; color: black; padding: 4px;\">\n",
    "<h1><ul><li>\n",
    "Why is This Happening?\n",
    "</li></ul>\n",
    "</h1></div>"
   ]
  },
  {
   "cell_type": "markdown",
   "id": "0d515f9d",
   "metadata": {},
   "source": [
    "\n",
    "<h2><p><b> Natural Causes\n",
    "</b>\n",
    "<ul><li><b>Droughts</b> or <b>irregular rainfall</b> due to climate change</li>\n",
    "<li><b>Dry rivers and lakes</b></li><li><b>Depleting groundwater</b> levels from overuse\n",
    "\n",
    "</li>\n",
    "<ul>\n",
    "</p></h2>"
   ]
  },
  {
   "cell_type": "markdown",
   "id": "a53e96c8",
   "metadata": {},
   "source": [
    "<h2><p><b> Human Causes\n",
    "\n",
    "</b>\n",
    "<ul><li><b>Overuse of water</b> without conservation</li>\n",
    "<li><b>Deforestation –</b>trees help maintain water cycles, and cutting them affects rainfall</li>\n",
    "<li><b>No proper water management – </b>leaky pipes, open wells, and poor storage systems\n",
    "</li>\n",
    "<li>Lack of<b> government support or planning</b></li>\n",
    "<li>No <b>rainwater harvesting systems</b> in place\n",
    "\n",
    "</li><ul>\n",
    "</p></h2>"
   ]
  },
  {
   "cell_type": "markdown",
   "id": "bdfa0374",
   "metadata": {},
   "source": [
    "<div style=\"background-color: lightgreen; color: black; padding: 4px;\">\n",
    "<h1><ul><li>\n",
    " Where is This Happening?\n",
    "</li></ul>\n",
    "</h1></div>\n"
   ]
  },
  {
   "cell_type": "markdown",
   "id": "c1239123",
   "metadata": {},
   "source": [
    "<h2><p>In rural villages, especially in:</p>\n",
    "<p><ul><li><b>Semi-arid and dry regions</b> (like parts of India, Africa, or Central Asia)\n",
    "\n",
    "</li>\n",
    "<li>Areas with<b> seasonal rainfall</b>\n",
    "\n",
    "</li>\n",
    "<li>Villages <b>far from major water supply systems</b>\n",
    "\n",
    "</li></ul></p>\n",
    "<p>These places often rely on wells, boreholes, or small ponds, which can dry up quickly without proper care.\n",
    "\n",
    "</p>\n",
    "</h2>\n"
   ]
  },
  {
   "cell_type": "markdown",
   "id": "798393bf",
   "metadata": {},
   "source": [
    "<div style=\"background-color: #6495ED; color: black; padding: 4px;\">\n",
    "    <h1> Solution:</h1> </div>\n"
   ]
  },
  {
   "cell_type": "markdown",
   "id": "b0321564",
   "metadata": {},
   "source": [
    "<h2><p> 1. Rainwater Harvesting\n",
    "</p>\n",
    "<p><ul><li>Build tanks or ponds to collect and store rainwater from rooftops or fields.\n",
    "\n",
    "</li>\n",
    "<li>Helps store water for dry months.\n",
    "\n",
    "</li></ul></p>\n",
    "</h2>"
   ]
  },
  {
   "cell_type": "markdown",
   "id": "2d801ee5",
   "metadata": {},
   "source": [
    "<h2><p> 2. Recharging Groundwater</p>\n",
    "<p><ul><li>Dig check dams, percolation pits, and trenches to allow rainwater to seep underground.\n",
    "\n",
    "</li><li>Helps refill dried borewells and wells naturally.\n",
    "\n",
    "</li></ul</p></h2>\n"
   ]
  },
  {
   "cell_type": "markdown",
   "id": "cb809872",
   "metadata": {},
   "source": [
    "<h2><p>3. Water Conservation Awareness</p>\n",
    "<p><ul><li>Educate villagers about saving water.\n",
    "\n",
    "</li>\n",
    "<li>Fix leaks and stop wastage at home, farms, and schools.\n",
    "\n",
    "</li></ul></p></h2>\n"
   ]
  },
  {
   "cell_type": "markdown",
   "id": "b951b4eb",
   "metadata": {},
   "source": [
    "<h2><p> 4. Tree Plantation\n",
    "</p>\n",
    "<p><ul><li>Plant trees to increase moisture in the soil and attract rain.\n",
    "\n",
    "</li><li>Helps prevent soil erosion and improves the local climate.\n",
    "\n",
    "</li></ul></h2>"
   ]
  },
  {
   "cell_type": "markdown",
   "id": "0ca887f8",
   "metadata": {},
   "source": [
    "<div style=\"background-color: rgb(31, 174, 222); color: white; padding: 10px; text-align: center;\">\n",
    "    <h1>_________________________________END________________________________\n",
    "    </h1> </div>"
   ]
  },
  {
   "cell_type": "markdown",
   "id": "04daefb4",
   "metadata": {},
   "source": [
    "<div style=\"background-color: #002147; color: #fff; padding: 30px; text-align: center;\">\n",
    "    <h1>THANK YOU!       \n",
    "</h1> </div>"
   ]
  }
 ],
 "metadata": {
  "kernelspec": {
   "display_name": "Python 3",
   "language": "python",
   "name": "python3"
  },
  "language_info": {
   "name": "python",
   "version": "3.13.2"
  }
 },
 "nbformat": 4,
 "nbformat_minor": 5
}
