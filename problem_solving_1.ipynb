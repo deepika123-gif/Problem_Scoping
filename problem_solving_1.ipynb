{
 "cells": [
  {
   "cell_type": "markdown",
   "id": "de4cdcb6",
   "metadata": {},
   "source": [
    "<div style=\"background-color:rgb(31, 174, 222); padding: 10px; height: 70px; border-radius: 15px;\">\n",
    "    <div style=\"font-family: 'Georgia', serif; font-size: 20px; padding: 10px; text-align: right; position: absolute; right: 20px;\">\n",
    "        Deepika <br>\n",
    "        <span style=\"font-family: 'Arial', sans-serif;font-size: 12px; color: #0a0a0a;\">AIML Trainee | AI/ML bootcamp</span> <!--- Suhana | CodroidHub Private Limited | AI/ML Consultant --->\n",
    "    </div>\n",
    "</div>"
   ]
  },
  {
   "cell_type": "markdown",
   "id": "e0955626",
   "metadata": {},
   "source": [
    "<div style=\"background-color: #002147; padding: 10px; text-align: center; color: white; font-size: 32px; font-family: 'Arial', sans-serif;\">\n",
    "     Real-World Scenario: Long Patient Wait Times in Public Hospitals <br>\n",
    "    <h3 style=\"text-align: center; color: white; font-size: 15px; font-family: 'Arial', sans-serif;\">Problem_1</h3>\n",
    "</div>"
   ]
  },
  {
   "cell_type": "markdown",
   "id": "a305dca4",
   "metadata": {},
   "source": [
    "<div style=\"background-color: #6495ED; color: black; padding: 4px;\">\n",
    "<h1> Problem Statement:</h1></div>\n",
    "<h2><p>Patients in public hospitals are experiencing excessively long wait times before receiving medical attention, especially in emergency departments.</p></h2>"
   ]
  },
  {
   "cell_type": "markdown",
   "id": "2111cfe7",
   "metadata": {},
   "source": [
    "<div style=\"background-color: #6495ED; color: black; padding: 4px;\">\n",
    "    <h1> 4W's Problem Scoping\n",
    "</h1> </div>\n"
   ]
  },
  {
   "cell_type": "markdown",
   "id": "cf583546",
   "metadata": {},
   "source": [
    "<div style=\"background-color: lightgreen; color: black; padding: 4px;\">\n",
    "<h1><ul><li>\n",
    "What is the problem?\n",
    "</li></ul>\n",
    "</h1></div>"
   ]
  },
  {
   "cell_type": "markdown",
   "id": "f168e3ad",
   "metadata": {},
   "source": [
    "<h2><p>Patients are waiting several hours to be seen by a doctor, even in urgent care situations, causing frustration and potential health risks.<p></h2>\n"
   ]
  },
  {
   "cell_type": "markdown",
   "id": "01ac90f0",
   "metadata": {},
   "source": [
    "<div style=\"background-color: lightgreen; color: black; padding: 4px;\">\n",
    "<h1><ul><li>\n",
    "Where is the problem occurring?\n",
    "</li></ul>\n",
    "\n",
    "</h1></div>"
   ]
  },
  {
   "cell_type": "markdown",
   "id": "eee67297",
   "metadata": {},
   "source": [
    "<h2><p>In government-run public hospitals in major cities, such as Mumbai, India, where patient volume is extremely high and resources are limited.<p></h2>\n"
   ]
  },
  {
   "cell_type": "markdown",
   "id": "17a65875",
   "metadata": {},
   "source": [
    "<div style=\"background-color: lightgreen; color: black; padding: 4px;\">\n",
    "<h1><ul><li>\n",
    "When is the problem occurring?\n",
    "</li></ul>\n",
    "\n",
    "</h1></div>"
   ]
  },
  {
   "cell_type": "markdown",
   "id": "458a5f7d",
   "metadata": {},
   "source": [
    "<h2><p>Mostly during peak hours (early mornings and evenings), weekends, and during seasonal illness outbreaks (like dengue, flu season, etc.).<p></h2>\n"
   ]
  },
  {
   "cell_type": "markdown",
   "id": "d7b3b7a1",
   "metadata": {},
   "source": [
    "<div style=\"background-color: lightgreen; color: black; padding: 4px;\">\n",
    "<h1><ul><li>\n",
    "Why is the problem important?\n",
    "</li></ul>\n",
    "</h1></div>"
   ]
  },
  {
   "cell_type": "markdown",
   "id": "c68c5e13",
   "metadata": {},
   "source": [
    "<h2><p>Long wait times can lead to deterioration of patient health, overloaded staff, and negative public perception of the healthcare system. In critical cases, delays can even be life-threatening.<p></h2>\n"
   ]
  },
  {
   "cell_type": "markdown",
   "id": "22fef465",
   "metadata": {},
   "source": [
    "<div style=\"background-color: #6495ED; color: black; padding: 4px;\">\n",
    "    <h1> Realistic Solution:</h1> </div>\n",
    "\n",
    "<h2><p>Implement a Smart Triage and Queue Management System</p></h2>\n",
    "<h3><p><ul>\n",
    "<li><b>Digital Triage Kiosks:</b> Patients check in using self-service kiosks that ask simple health questions and prioritize cases based on urgency using AI.</li>\n",
    "<li><b>Real-Time Wait Tracking:</b> Screens and mobile apps show estimated wait times so patients are informed and can plan accordingly.</li>\n",
    "<li><b>Staff Allocation Optimization:</b>Use predictive analytics to allocate doctors and nurses to departments with high expected patient loads.</li>\n",
    "<li><b>elehealth Pre-Screening:</b>Allow non-emergency cases to be handled virtually or redirected to nearby clinics, reducing crowding in emergency rooms.</li>\n",
    "</ul></p></h3>\n"
   ]
  },
  {
   "cell_type": "markdown",
   "id": "0ddbff4a",
   "metadata": {},
   "source": [
    "<div style=\"background-color: #6495ED; color: black; padding: 4px;\">\n",
    "    <h1> Impact of the Solution:</h1> </div>\n"
   ]
  },
  {
   "cell_type": "markdown",
   "id": "139acc15",
   "metadata": {},
   "source": [
    "<h2><p><ul>\n",
    "<li>Reduces<b> average patient wait time</b> by up to 30–50%.</li>\n",
    "<li>Improves <b>staff efficiency</b> and patient<b> satisfaction scores.</b></li>\n",
    "<li>Prevents overcrowding and ensures <b>critical cases</b> are treated promptly.</li>\n",
    "</ul></p></h2>"
   ]
  },
  {
   "cell_type": "markdown",
   "id": "d3787bf9",
   "metadata": {},
   "source": [
    "<div style=\"background-color: rgb(31, 174, 222); color: white; padding: 10px; text-align: center;\">\n",
    "    <h1>_________________________________END________________________________\n",
    "<!--- Devashish Kumar | Tech Skills Trainer | CodroidHub Private Limited | AI/ML Consultant --->\n",
    "    </h1> </div>"
   ]
  },
  {
   "cell_type": "markdown",
   "id": "72266e82",
   "metadata": {},
   "source": [
    "<div style=\"background-color: #002147; color: #fff; padding: 30px; text-align: center;\">\n",
    "    <h1>THANK YOU!\n",
    "        <!--- Devashish Kumar | Tech Skills Trainer | CodroidHub Private Limited | AI/ML Consultant --->\n",
    "</h1> </div>"
   ]
  }
 ],
 "metadata": {
  "language_info": {
   "name": "python"
  }
 },
 "nbformat": 4,
 "nbformat_minor": 5
}
