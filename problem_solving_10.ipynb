{
 "cells": [
  {
   "cell_type": "markdown",
   "id": "c76658b6",
   "metadata": {},
   "source": [
    "<div style=\"background-color:rgb(31, 174, 222); padding: 10px; height: 70px; border-radius: 15px;\">\n",
    "    <div style=\"font-family: 'Georgia', serif; font-size: 20px; padding: 10px; text-align: right; position: absolute; right: 20px;\">\n",
    "        Deepika <br>\n",
    "        <span style=\"font-family: 'Arial', sans-serif;font-size: 12px; color: #0a0a0a;\">AIML Trainee | AI/ML bootcamp</span> <!--- Suhana | CodroidHub Private Limited | AI/ML Consultant --->\n",
    "    </div>\n",
    "</div>\n"
   ]
  },
  {
   "cell_type": "markdown",
   "id": "f77f0fba",
   "metadata": {},
   "source": [
    "<div style=\"background-color: #002147; padding: 10px; text-align: center; color: white; font-size: 32px; font-family: 'Arial', sans-serif;\">\n",
    "     Real-World Scenario: Air Pollution in Major Cities\n",
    " <br>\n",
    "    <h3 style=\"text-align: center; color: white; font-size: 15px; font-family: 'Arial', sans-serif;\">Problem_10</h3>\n",
    "</div>"
   ]
  },
  {
   "cell_type": "markdown",
   "id": "28e26a2c",
   "metadata": {},
   "source": [
    "<div style=\"background-color: #6495ED; color: black; padding: 4px;\">\n",
    "    <h1> 4W's Problem Scoping\n",
    "</h1> </div>"
   ]
  },
  {
   "cell_type": "markdown",
   "id": "f3510f3a",
   "metadata": {},
   "source": [
    "<div style=\"background-color: lightgreen; color: black; padding: 4px;\">\n",
    "<h1><ul><li>\n",
    " What is the Problem?\n",
    "</li></ul>\n",
    "</h1></div>"
   ]
  },
  {
   "cell_type": "markdown",
   "id": "ff724fbb",
   "metadata": {},
   "source": [
    "<h2><p>*Air pollution refers to the presence of harmful substances in the air, such as:</p><ul><li>\n",
    "Particulate Matter (PM2.5 and PM10)\n",
    "</li><li>\n",
    "Nitrogen dioxide (NO₂)\n",
    "</li><li>\n",
    "Carbon monoxide (CO)\n",
    "</li><li>\n",
    "Sulfur dioxide (SO₂)\n",
    "</li><li>\n",
    "Ground-level ozone (O₃)\n",
    "</li></ul><p>*\n",
    "These pollutants are dangerous to human health and the environment. Common effects include:\n",
    "</p><ul><li>\n",
    "Respiratory issues (asthma, bronchitis)\n",
    "</li><li>\n",
    "Heart diseases\n",
    "</li><li>\n",
    "Reduced visibility (smog)\n",
    "</li><li>\n",
    "Environmental damage (acid rain, climate change)\n",
    "</li></h2>\n"
   ]
  },
  {
   "cell_type": "markdown",
   "id": "252d6d5f",
   "metadata": {},
   "source": [
    "<div style=\"background-color: lightgreen; color: black; padding: 4px;\">\n",
    "<h1><ul><li>\n",
    " Where is it Happening?\n",
    "</li></ul>\n",
    "</h1></div>"
   ]
  },
  {
   "cell_type": "markdown",
   "id": "bd70a815",
   "metadata": {},
   "source": [
    "<h2><p>*Air pollution is most severe in large, crowded cities worldwide, especially where:\n",
    "</p><ul><li>\n",
    "Vehicle use is high\n",
    "</li><li>\n",
    "Industrial activity is dense\n",
    "</li><li>\n",
    "Urban planning is poor</li></ul>\n",
    "<p>*Major cities affected include:\n",
    "</p><ul><li>\n",
    "Delhi, India</li><li>\n",
    "Beijing, China</li><li>\n",
    "Los Angeles, USA</li><li>\n",
    "Cairo, Egypt</li><li>\n",
    "Dhaka, Bangladesh</li><li>\n",
    "Jakarta, Indonesia</li></ul>\n",
    "<p>*These cities often rank among the most polluted in global air quality indexes.\n",
    "</p></h2>\n"
   ]
  },
  {
   "cell_type": "markdown",
   "id": "561d0446",
   "metadata": {},
   "source": [
    "<div style=\"background-color: lightgreen; color: black; padding: 4px;\">\n",
    "<h1><ul><li>\n",
    "When Does It Happen?\n",
    "</li></ul>\n",
    "</h1></div>"
   ]
  },
  {
   "cell_type": "markdown",
   "id": "f0589eac",
   "metadata": {},
   "source": [
    "<h2><p>*Air pollution occurs year-round, but certain times make it worse:\n",
    "</p><ul><li><b>\n",
    "Winter months: </b>Cold air traps pollutants close to the ground (called temperature inversion)\n",
    "</li><li><b>\n",
    "Rush hours: </b>Morning and evening traffic leads to spikes in emissions\n",
    "</li><li><b>\n",
    "Festive seasons: </b>Firecrackers and increased activity during festivals add to pollution (e.g., Diwali in India)\n",
    "</li><li><b>\n",
    "Burning seasons:</b> In some regions, crop residue burning worsens air quality in specific months\n",
    "</li></ul></h2>\n"
   ]
  },
  {
   "cell_type": "markdown",
   "id": "8240fb75",
   "metadata": {},
   "source": [
    "<div style=\"background-color: lightgreen; color: black; padding: 4px;\">\n",
    "<h1><ul><li>\n",
    " Why Does It Happen?\n",
    "</li></ul>\n",
    "</h1></div>"
   ]
  },
  {
   "cell_type": "markdown",
   "id": "6ddd82cc",
   "metadata": {},
   "source": [
    "<h2><p>*Human Causes:</p><ul><li>\n",
    "Vehicle emissions from petrol/diesel cars and bikes\n",
    "</li><li>\n",
    "Industrial pollution from factories, power plants\n",
    "</li><li>\n",
    "Construction dust and open burning of waste\n",
    "</li><li>\n",
    "Household fuels (wood, coal, kerosene for cooking)\n",
    "</li><li>\n",
    "Agricultural burning (e.g., stubble burning by farmers)\n",
    "</li></ul><p>* Natural Factors:\n",
    "</p><ul><li>Dust storms\n",
    "</li><li>\n",
    "Geographic conditions that trap air (valleys, low wind)\n",
    "</li></ul></h2>\n"
   ]
  },
  {
   "cell_type": "markdown",
   "id": "52dc10d2",
   "metadata": {},
   "source": [
    "<div style=\"background-color: #6495ED; color: black; padding: 4px;\">\n",
    "  <h1> Solutions\n",
    "</h1> </div>"
   ]
  },
  {
   "cell_type": "markdown",
   "id": "5ca41e7f",
   "metadata": {},
   "source": [
    "<h2><p> 1. Promote Clean Transportation</p><ul><li>\n",
    "Use electric buses, cars, and bikes</li><li>\n",
    "Improve public transport to reduce individual car use\n",
    "</li><li>\n",
    "Encourage cycling and walking in short-distance zones\n",
    "</li><li>\n",
    "Implement carpooling and odd-even vehicle policies\n",
    "</li></ul>\n",
    "<p>2. Control Industrial Emissions\n",
    "</p><ul><li>Enforce emission limits on factories\n",
    "</li><li>\n",
    "Use filters and scrubbers in power plants\n",
    "</li><li>\n",
    "Relocate heavy industries outside urban areas\n",
    "</li></ul><p> 3. Ban Open Burning\n",
    "</p><ul><li>Prohibit burning of garbage, leaves, or crop stubble\n",
    "</li><li>\n",
    "Provide machines and subsidies to farmers for sustainable disposal\n",
    "</li><li>\n",
    "Promote awareness among citizens about the dangers of burning waste\n",
    "</li></ul><p> 4. Green Urban Planning</p><ul><li>\n",
    "Plant more trees and green belts to filter air</li><li>\n",
    "Design cities with better ventilation and green spaces\n",
    "</li><li>\n",
    "Enforce dust control measures at construction sites\n",
    "</li></ul><p> 5. Use Clean Energy Sources</p><ul><li>\n",
    "Shift homes and industries to solar, wind, or natural gas</li><li>\n",
    "Provide subsidies for clean cooking fuels in poor areas</li></ul>\n",
    "<p> 6. Real-Time Monitoring & Action\n",
    "</p><ul><li>Install air quality sensors across cities\n",
    "</li><li>\n",
    "Alert public during high pollution days\n",
    "</li><li>\n",
    "Close schools or limit outdoor activity when AQI is dangerous\n",
    "</li></ul></h2>\n"
   ]
  },
  {
   "cell_type": "markdown",
   "id": "c730fd0a",
   "metadata": {},
   "source": [
    "<div style=\"background-color: rgb(31, 174, 222); color: white; padding: 10px; text-align: center;\">\n",
    "    <h1>_________________________________END________________________________\n",
    "    </h1> </div>"
   ]
  },
  {
   "cell_type": "markdown",
   "id": "7bd77f41",
   "metadata": {},
   "source": [
    "<div style=\"background-color: #002147; color: #fff; padding: 30px; text-align: center;\">\n",
    "    <h1>THANK YOU!       \n",
    "</h1> </div>"
   ]
  }
 ],
 "metadata": {
  "language_info": {
   "name": "python"
  }
 },
 "nbformat": 4,
 "nbformat_minor": 5
}
