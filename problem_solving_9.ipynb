{
 "cells": [
  {
   "cell_type": "markdown",
   "id": "17adf15b",
   "metadata": {},
   "source": [
    "<div style=\"background-color:rgb(31, 174, 222); padding: 10px; height: 70px; border-radius: 15px;\">\n",
    "    <div style=\"font-family: 'Georgia', serif; font-size: 20px; padding: 10px; text-align: right; position: absolute; right: 20px;\">\n",
    "        Deepika <br>\n",
    "        <span style=\"font-family: 'Arial', sans-serif;font-size: 12px; color: #0a0a0a;\">AIML Trainee | AI/ML bootcamp</span> <!--- Suhana | CodroidHub Private Limited | AI/ML Consultant --->\n",
    "    </div>\n",
    "</div>"
   ]
  },
  {
   "cell_type": "markdown",
   "id": "73598011",
   "metadata": {},
   "source": [
    "<div style=\"background-color: #002147; padding: 10px; text-align: center; color: white; font-size: 32px; font-family: 'Arial', sans-serif;\">\n",
    "     Real-World Scenario: School Dropouts in Rural Areas\n",
    " <br>\n",
    "    <h3 style=\"text-align: center; color: white; font-size: 15px; font-family: 'Arial', sans-serif;\">Problem_9</h3>\n",
    "</div>"
   ]
  },
  {
   "cell_type": "markdown",
   "id": "7a99c895",
   "metadata": {},
   "source": [
    "<div style=\"background-color: #6495ED; color: black; padding: 4px;\">\n",
    "    <h1> 4W's Problem Scoping\n",
    "</h1> </div>"
   ]
  },
  {
   "cell_type": "markdown",
   "id": "e5b0fce3",
   "metadata": {},
   "source": [
    "<div style=\"background-color: lightgreen; color: black; padding: 4px;\">\n",
    "<h1><ul><li>\n",
    " What is the Problem?\n",
    "</li></ul>\n",
    "</h1></div>"
   ]
  },
  {
   "cell_type": "markdown",
   "id": "407b352a",
   "metadata": {},
   "source": [
    "<h2><p>In many rural areas, a significant number of <b>children leave school before completing their basic education. </b>This issue is referred to as the <b>school dropout problem.</b></p>\n",
    "<p>Consequences:</p>\n",
    "<ul><li>Poor literacy rates</li>\n",
    "<li>Limited job opportunities</li>\n",
    "<li>Continuation of poverty from generation to generation</li>\n",
    "<li>Increased child labor and early marriages</li></ul>\n",
    "</h2>"
   ]
  },
  {
   "cell_type": "markdown",
   "id": "c4004569",
   "metadata": {},
   "source": [
    "<div style=\"background-color: lightgreen; color: black; padding: 4px;\">\n",
    "<h1><ul><li>\n",
    " Where Does It Happen?\n",
    "</li></ul>\n",
    "</h1></div>"
   ]
  },
  {
   "cell_type": "markdown",
   "id": "47ac7865",
   "metadata": {},
   "source": [
    "<h2><p>*This problem occurs mainly in rural and underdeveloped regions of:</p>\n",
    "<ul><li><b>South Asia:</b> India, Bangladesh, Nepal</li>\n",
    "<li><b>Africa:</b> Nigeria, Ethiopia, Kenya</li>\n",
    "<li><b>Latin America:</b> Bolivia, Guatemala</li>\n",
    "<li><b>Southeast Asia:</b> Cambodia, Myanmar</li></ul>\n",
    "<p>*These areas often have:</p>\n",
    "<ul><li><b>Limited infrastructure</b></li><li>\n",
    "<b>Scattered populations</b></li><li>\n",
    "<b>Low access to government programs</b></li></ul>\n",
    "</h2>"
   ]
  },
  {
   "cell_type": "markdown",
   "id": "69eb09e8",
   "metadata": {},
   "source": [
    "<div style=\"background-color: lightgreen; color: black; padding: 4px;\">\n",
    "<h1><ul><li>\n",
    " When Does It Happen?\n",
    "</li></ul>\n",
    "</h1></div>"
   ]
  },
  {
   "cell_type": "markdown",
   "id": "8c005358",
   "metadata": {},
   "source": [
    "<h2><p>School dropouts usually occur:</p><ul><li>\n",
    "Around the age of 10–14 years </li><li>After 5th or 8th grade</li><li>\n",
    "During times of financial crisis, harvest season, or family emergencies</li><li>\n",
    "When children transition from free primary to paid secondary education</li></ul>\n",
    "</h2>"
   ]
  },
  {
   "cell_type": "markdown",
   "id": "c2521b01",
   "metadata": {},
   "source": [
    "<div style=\"background-color: lightgreen; color: black; padding: 4px;\">\n",
    "<h1><ul><li>\n",
    " Why Does It Happen?\n",
    "</li></ul>\n",
    "</h1></div>"
   ]
  },
  {
   "cell_type": "markdown",
   "id": "9fcfff0a",
   "metadata": {},
   "source": [
    "<h2><p>There are several reasons why children drop out of school in rural areas:</p>\n",
    "<p>*Economic Factors:</p><ul><li>\n",
    "Families cannot afford fees, uniforms, or books\n",
    "</li><li>\n",
    "Children are needed to work at home or earn money\n",
    "</li></ul>\n",
    "<p>* Infrastructure Problems:</p><ul><li>\n",
    "Lack of nearby schools — children must walk several kilometers\n",
    "</li><li>\n",
    "Unsafe roads or lack of transportation\n",
    "</li><li>\n",
    "Schools often lack basic facilities like toilets, clean water, and electricity\n",
    "</li></ul>\n",
    "<p>*\n",
    " Gender Discrimination:\n",
    "</p><ul><li>Girls are more likely to drop out due to:</li></ul>\n",
    "<p>-Early marriage</p>\n",
    "<p>-Cultural beliefs that girls don't \"need\" education</p>\n",
    "<p>-Lack of separate toilets for girls\n",
    "</p>\n",
    "<p>* Quality of Education:</p><ul><li>\n",
    "Unqualified teachers or frequent absenteeism\n",
    "</li><li>\n",
    "Outdated teaching methods or language barriers\n",
    "</li><li>\n",
    "No motivation or encouragement to continue schooling\n",
    "</li></ul></h2>\n"
   ]
  },
  {
   "cell_type": "markdown",
   "id": "99ed1adf",
   "metadata": {},
   "source": [
    " <div style=\"background-color: #6495ED; color: black; padding: 4px;\">\n",
    "  <h1> Solutions\n",
    "</h1> </div>"
   ]
  },
  {
   "cell_type": "markdown",
   "id": "e2663d1a",
   "metadata": {},
   "source": [
    "<h2><p> 1. Financial Support to Families</p>\n",
    "<ul><li>Provide scholarships, free uniforms, books, and mid-day meals\n",
    "</li><li>\n",
    "Conditional cash transfer programs (money if children attend school regularly)\n",
    "</li><li>\n",
    "Encourage income-generating programs for parents to reduce child labor\n",
    "</li></ul>\n",
    "<p> 2. Improve School Infrastructure</p><ul><li>\n",
    "Build more schools closer to villages</li><li>\n",
    "Ensure access to toilets, clean drinking water, electricity, and furniture\n",
    "</li><li>\n",
    "Create hostels for children who live far from schools\n",
    "</li></ul>\n",
    "<p> 3. Promote Girls' Education</p><ul><li>\n",
    "Provide sanitary hygiene education and materials\n",
    "</li><li>\n",
    "Appoint more female teachers to support girl students\n",
    "</li><li>\n",
    "Organize awareness campaigns on the importance of girls’ education\n",
    "</li></ul>\n",
    "<p> 4. Flexible Schooling Options\n",
    "</p><ul><li>Offer evening classes for working children\n",
    "</li><li>\n",
    "Promote bridge courses for children who missed years of school\n",
    "</li><li>\n",
    "Use mobile or digital classrooms in remote areas\n",
    "</li></ul><p> 5. Involve the Community</p><ul><li>\n",
    "Encourage Village Education Committees (VECs) to track student attendance\n",
    "</li><li>\n",
    "Train local volunteers or parents as assistant teachers\n",
    "</li><li>\n",
    "Run awareness programs about the long-term benefits of education\n",
    "</li></ul>\n",
    "<p>6. Quality Improvement in Teaching\n",
    "</p><ul><li>Train teachers in interactive and local-language-based teaching\n",
    "</li><li>\n",
    "Provide regular monitoring and support from education officers\n",
    "</li><li>\n",
    "Introduce extra-curricular activities to keep students engaged\n",
    "</li></ul></h2>"
   ]
  },
  {
   "cell_type": "markdown",
   "id": "a4a39022",
   "metadata": {},
   "source": [
    "<div style=\"background-color: rgb(31, 174, 222); color: white; padding: 10px; text-align: center;\">\n",
    "    <h1>_________________________________END________________________________\n",
    "    </h1> </div>"
   ]
  },
  {
   "cell_type": "markdown",
   "id": "d7291d0c",
   "metadata": {},
   "source": [
    "<div style=\"background-color: #002147; color: #fff; padding: 30px; text-align: center;\">\n",
    "    <h1>THANK YOU!       \n",
    "</h1> </div>"
   ]
  }
 ],
 "metadata": {
  "language_info": {
   "name": "python"
  }
 },
 "nbformat": 4,
 "nbformat_minor": 5
}
