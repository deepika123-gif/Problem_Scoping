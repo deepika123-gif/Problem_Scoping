{
 "cells": [
  {
   "cell_type": "markdown",
   "id": "4943a212",
   "metadata": {},
   "source": [
    "<div style=\"background-color:rgb(31, 174, 222); padding: 10px; height: 70px; border-radius: 15px;\">\n",
    "    <div style=\"font-family: 'Georgia', serif; font-size: 20px; padding: 10px; text-align: right; position: absolute; right: 20px;\">\n",
    "        Deepika <br>\n",
    "        <span style=\"font-family: 'Arial', sans-serif;font-size: 12px; color: #0a0a0a;\">AIML Trainee | AI/ML bootcamp</span> <!--- Suhana | CodroidHub Private Limited | AI/ML Consultant --->\n",
    "    </div>\n",
    "</div>"
   ]
  },
  {
   "cell_type": "markdown",
   "id": "436dfeae",
   "metadata": {},
   "source": [
    "<div style=\"background-color: #002147; padding: 10px; text-align: center; color: white; font-size: 32px; font-family: 'Arial', sans-serif;\">\n",
    "     Real-World Scenario: Traffic Congestion in Cities\n",
    " <br>\n",
    "    <h3 style=\"text-align: center; color: white; font-size: 15px; font-family: 'Arial', sans-serif;\">Problem_7</h3>\n",
    "</div>"
   ]
  },
  {
   "cell_type": "markdown",
   "id": "291b6dbf",
   "metadata": {},
   "source": [
    "<div style=\"background-color: #6495ED; color: black; padding: 4px;\">\n",
    "    <h1> 4W's Problem Scoping\n",
    "</h1> </div>"
   ]
  },
  {
   "cell_type": "markdown",
   "id": "8115da20",
   "metadata": {},
   "source": [
    "<div style=\"background-color: lightgreen; color: black; padding: 4px;\">\n",
    "<h1><ul><li>\n",
    " What is the Problem?\n",
    "</li></ul>\n",
    "</h1></div>"
   ]
  },
  {
   "cell_type": "markdown",
   "id": "7364b563",
   "metadata": {},
   "source": [
    "<h2><p>Traffic congestion happens when there are too many vehicles on the roads, leading to:</p>\n",
    "<ul><li>Slow movement or standstill traffic</li>\n",
    "<li>Long delays during travel</li>\n",
    "<li>Increased fuel consumption</li>\n",
    "<li>Air pollution and noise</li>\n",
    "<li>Stress and frustration for drivers and passengers</li>\n",
    "</ul>\n",
    "<p>This has become a daily struggle in most cities, especially during rush hours.\n",
    "\n",
    "</p>\n",
    "\n",
    "</h2>"
   ]
  },
  {
   "cell_type": "markdown",
   "id": "1501a7e3",
   "metadata": {},
   "source": [
    "<div style=\"background-color: lightgreen; color: black; padding: 4px;\">\n",
    "<h1><ul><li>\n",
    " When Does It Happen?\n",
    "</li></ul>\n",
    "</h1></div>"
   ]
  },
  {
   "cell_type": "markdown",
   "id": "917a8df3",
   "metadata": {},
   "source": [
    "<h2><p>Traffic congestion mainly occurs during:</p>\n",
    "<p>*Morning and evening peak hours (e.g., 8–10 AM and 5–8 PM) when people:</p>\n",
    "<ul><li>Go to work or school</li>\n",
    "<li>Return home after office hours</li></ul>\n",
    "<p>*Weekends and holidays, especially near shopping centers or tourist spots</p>\n",
    "<p>*Bad weather, accidents, or road construction times, when lanes are blocked</p>\n",
    "<p>*During public events, like parades or concerts, that disrupt normal traffic flow</p>\n",
    "</h2>"
   ]
  },
  {
   "cell_type": "markdown",
   "id": "f4b651c7",
   "metadata": {},
   "source": [
    "<div style=\"background-color: lightgreen; color: black; padding: 4px;\">\n",
    "<h1><ul><li> Where Does It Happen?\n",
    "\n",
    "</li></ul>\n",
    "</h1></div>"
   ]
  },
  {
   "cell_type": "markdown",
   "id": "bc57ca01",
   "metadata": {},
   "source": [
    "<h2><p>Congestion is commonly seen in:</p><p>*Urban and metro cities with high population density</p>\n",
    "<p>*Areas with narrow or poorly planned roads</p>\n",
    "<p>*Around:</p>\n",
    "<ul><li>Office districts</li>\n",
    "<li>Markets and malls</li>\n",
    "<li>School zones</li>\n",
    "<li>Bus stops and railway stations</li></ul>\n",
    "<p>*Cities with rapid urban growth, like:</p>\n",
    "<ul><li>New Delhi, Mumbai, Bengaluru (India)</li>\n",
    "<li>New York, Los Angeles (USA)</li>\n",
    "<li>Jakarta, London, Cairo, etc.</li></ul>\n",
    "</h2>"
   ]
  },
  {
   "cell_type": "markdown",
   "id": "b230ace1",
   "metadata": {},
   "source": [
    "<div style=\"background-color: lightgreen; color: black; padding: 4px;\">\n",
    "<h1><ul><li> Why Does It Happen?\n",
    "\n",
    "\n",
    "</li></ul>\n",
    "</h1></div>"
   ]
  },
  {
   "cell_type": "markdown",
   "id": "c72eb563",
   "metadata": {},
   "source": [
    "<h2><p>There are multiple reasons behind traffic congestion:<p>\n",
    "<p>*Too Many Vehicles</p>\n",
    "<ul><li>Rapid increase in private cars and bikes</li>\n",
    "<li>Not enough people using public transport</li></ul>\n",
    "<p>* Poor Road Infrastructure</p><ul>\n",
    "<li>Narrow roads, potholes, and lack of flyovers\n",
    "</li>\n",
    "<li>Unplanned signals, bottlenecks, or construction zones\n",
    "</li></ul>\n",
    "<p>*Lack of Public Transport Use</p><ul><li>\n",
    "Buses and trains may be overcrowded, late, or unavailable\n",
    "</li>\n",
    "<li>People prefer driving their own vehicles\n",
    "</li></ul>\n",
    "<p>*Inefficient Traffic Management</p><ul><li>\n",
    "Lack of smart traffic signals\n",
    "</li><li>\n",
    "Weak enforcement of traffic rules\n",
    "</li><li>\n",
    "Illegal parking on roads blocks lanes\n",
    "</li></ul>\n",
    "<p>*Urban Sprawl</p><ul><li>\n",
    "People live far from where they work\n",
    "</li><li>\n",
    "Daily long-distance travel increases pressure on main roads\n",
    "</li></ul></h2>"
   ]
  },
  {
   "cell_type": "markdown",
   "id": "0ff6efca",
   "metadata": {},
   "source": [
    "<div style=\"background-color: #6495ED; color: black; padding: 4px;\">\n",
    "  <h1> Solutions to Reduce Traffic Congestion\n",
    "\n",
    "</h1> </div>"
   ]
  },
  {
   "cell_type": "markdown",
   "id": "8236cd1c",
   "metadata": {},
   "source": [
    "<h2><p>1. Improve Public Transportation</p><ul><li>\n",
    "Invest in metro rail, bus systems, and suburban trains</li>\n",
    "<li>Ensure they are clean, safe, on-time, and cover more areas\n",
    "</li><li>\n",
    "Offer affordable pricing to encourage usage\n",
    "</li></ul>\n",
    "<p>2. Promote Carpooling & Cycling</p><ul><li>\n",
    "Encourage ride-sharing apps and carpooling among office-goers\n",
    "</li><li>\n",
    "Create dedicated bicycle lanes and walking paths\n",
    "</li></ul>\n",
    "<p>3. Use Smart Traffic Systems</p><ul><li>\n",
    "Install intelligent traffic lights that adjust based on real-time flow\n",
    "</li><li>\n",
    "Use CCTV and AI monitoring to detect and manage congestion early\n",
    "</li></ul>\n",
    "<p>4. Urban Planning & Road Development</p><ul><li>\n",
    "Build more flyovers, underpasses, and bypass roads</li>\n",
    "<li>\n",
    "Widen narrow roads and fix potholes\n",
    "</li><li>\n",
    "Keep footpaths and parking separate from the main road\n",
    "</li></ul>\n",
    "<p> 5. Limit Private Vehicle Use</p><ul><li>\n",
    "Implement \"odd-even\" rules (vehicles run on alternate days based on number plates)\n",
    "</li><li>\n",
    "Charge congestion fees in high-traffic areas (used in cities like London)\n",
    "</li><li>\n",
    "Provide incentives for using public transport\n",
    "</li></ul></h2>"
   ]
  },
  {
   "cell_type": "markdown",
   "id": "facd09ea",
   "metadata": {},
   "source": [
    "<div style=\"background-color: rgb(31, 174, 222); color: white; padding: 10px; text-align: center;\">\n",
    "    <h1>_________________________________END________________________________\n",
    "    </h1> </div>"
   ]
  },
  {
   "cell_type": "markdown",
   "id": "b45ba972",
   "metadata": {},
   "source": [
    "<div style=\"background-color: #002147; color: #fff; padding: 30px; text-align: center;\">\n",
    "    <h1>THANK YOU!       \n",
    "</h1> </div>"
   ]
  }
 ],
 "metadata": {
  "language_info": {
   "name": "python"
  }
 },
 "nbformat": 4,
 "nbformat_minor": 5
}
