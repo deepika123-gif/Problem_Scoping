{
 "cells": [
  {
   "cell_type": "markdown",
   "id": "121cf523",
   "metadata": {},
   "source": [
    "<div style=\"background-color:rgb(31, 174, 222); padding: 10px; height: 70px; border-radius: 15px;\">\n",
    "    <div style=\"font-family: 'Georgia', serif; font-size: 20px; padding: 10px; text-align: right; position: absolute; right: 20px;\">\n",
    "        Deepika <br>\n",
    "        <span style=\"font-family: 'Arial', sans-serif;font-size: 12px; color: #0a0a0a;\">AIML Trainee | AI/ML bootcamp</span> <!--- Suhana | CodroidHub Private Limited | AI/ML Consultant --->\n",
    "    </div>\n",
    "</div>"
   ]
  },
  {
   "cell_type": "markdown",
   "id": "505911ea",
   "metadata": {},
   "source": [
    "<div style=\"background-color: #002147; padding: 10px; text-align: center; color: white; font-size: 32px; font-family: 'Arial', sans-serif;\">\n",
    "     Real-World Scenario: Fire Incident\n",
    " <br>\n",
    "    <h3 style=\"text-align: center; color: white; font-size: 15px; font-family: 'Arial', sans-serif;\">Problem_8</h3>\n",
    "</div>"
   ]
  },
  {
   "cell_type": "markdown",
   "id": "257d6a4f",
   "metadata": {},
   "source": [
    "<div style=\"background-color: #6495ED; color: black; padding: 4px;\">\n",
    "    <h1> 4W's Problem Scoping\n",
    "</h1> </div>"
   ]
  },
  {
   "cell_type": "markdown",
   "id": "120e2b64",
   "metadata": {},
   "source": [
    "<div style=\"background-color: lightgreen; color: black; padding: 4px;\">\n",
    "<h1><ul><li>\n",
    "\n",
    " What Happened?\n",
    "</li></ul>\n",
    "</h1></div>"
   ]
  },
  {
   "cell_type": "markdown",
   "id": "8a0811d0",
   "metadata": {},
   "source": [
    "<h2><p>A fire incident occurred in a commercial building, resulting in:</p>\n",
    "<ul><li><b>Heavy property damage</b></li>\n",
    "<li>Injuries and, in some cases, <b>loss of lives</b></li>\n",
    "<li>People getting <b>trapped inside the building</b></li>\n",
    "<li>Panic among workers, residents, and the surrounding public</li>\n",
    "<li>Emergency response teams (firefighters, ambulances) arriving to rescue and control the situation</li></ul>\n",
    "<p>This type of fire incident disrupts not just the site but also traffic, local businesses, and emergency services in the area.</p>\n",
    "\n",
    "</h2>"
   ]
  },
  {
   "cell_type": "markdown",
   "id": "edf2c1bb",
   "metadata": {},
   "source": [
    "<div style=\"background-color: lightgreen; color: black; padding: 4px;\">\n",
    "<h1><ul><li>\n",
    " When Did It Happen?\n",
    "\n",
    "</li></ul>\n",
    "</h1></div>"
   ]
  },
  {
   "cell_type": "markdown",
   "id": "1bdba656",
   "metadata": {},
   "source": [
    "<h2><p>The fire occurred during <b>working hours (around 11:00 AM) </b>on a weekday, which made it more dangerous because:</p>\n",
    "<ul><li>The building was fully occupied</li>\n",
    "<li>People were not prepared for such an emergency</li>\n",
    "<li>Evacuation was delayed or disorganized</li>\n",
    "<li>Rescue operations had to be carried out during peak time</li></ul>\n",
    "<p>In other cases, fires at night or early morning become harder to detect early, often causing more damage before help arrives.</p>\n",
    "</h2>"
   ]
  },
  {
   "cell_type": "markdown",
   "id": "d699e2c5",
   "metadata": {},
   "source": [
    "<div style=\"background-color: lightgreen; color: black; padding: 4px;\">\n",
    "<h1><ul><li>\n",
    " Where Did It Happen?\n",
    " \n",
    "\n",
    "</li></ul>\n",
    "</h1></div>"
   ]
  },
  {
   "cell_type": "markdown",
   "id": "87953896",
   "metadata": {},
   "source": [
    "<h2><p>This fire took place in a multi-story office building located in a busy urban area, surrounded by:</p>\n",
    "<ul><li>Other commercial buildings</li>\n",
    "<li>Residential apartments</li>\n",
    "<li>Shops and roadside vendors</li></ul>\n",
    "<p>Because of its location, the fire quickly spread to nearby areas, and fire engines faced difficulty accessing the building due to narrow roads and illegal street parking.</p>\n",
    "</h2>"
   ]
  },
  {
   "cell_type": "markdown",
   "id": "d6d86a74",
   "metadata": {},
   "source": [
    "<div style=\"background-color: lightgreen; color: black; padding: 4px;\">\n",
    "<h1><ul><li>\n",
    " Why Did It Happen?\n",
    "\n",
    "</li></ul>\n",
    "</h1></div>"
   ]
  },
  {
   "cell_type": "markdown",
   "id": "42158586",
   "metadata": {},
   "source": [
    "<h2><p>The investigation revealed several causes that led to the fire:</p>\n",
    "<p>* Electrical Short Circuit</p>\n",
    "<ul><li>Faulty wiring and overloaded power sockets</li><li>Air conditioning units running constantly on old wiring</li></ul>\n",
    "<p>* Poor Maintenance</p>\n",
    "<ul><li>No regular checks on electrical equipment</li>\n",
    "<li>xFire extinguishers were expired or missing</li></ul>\n",
    "<p>*Lack of Fire Safety Systems</p><ul><li>\n",
    "No fire alarms or smoke detectors</li><li>\n",
    "No sprinkler system</li><li>\n",
    "Emergency exits blocked by storage boxes and furniture\n",
    "</li></ul>\n",
    "<p>*Negligence</p><ul><li>\n",
    "People ignored the smell of burning plastic earlier in the day\n",
    "</li><li>\n",
    "No fire drills or staff training on what to do during a fire\n",
    "</li>\n",
    "\n",
    "\n",
    "</h2>"
   ]
  },
  {
   "cell_type": "markdown",
   "id": "a387d244",
   "metadata": {},
   "source": [
    "<div style=\"background-color: #6495ED; color: black; padding: 4px;\">\n",
    "  <h1> Solutions and Preventive Measures\n",
    "\n",
    "\n",
    "</h1> </div>"
   ]
  },
  {
   "cell_type": "markdown",
   "id": "29142d19",
   "metadata": {},
   "source": [
    "<h2><p> 1. Install and Maintain Fire Safety Equipment</p><ul><li>\n",
    "Smoke detectors, fire alarms, and sprinkler systems in every building</li><li>Regularly check and replace old wiring</li><li>\n",
    "\n",
    "Keep fire extinguishers on every floor and train staff to use them\n",
    "</li></ul>\n",
    "<p>2. Create Clear Emergency Plans</p><ul><li>\n",
    "Make and display evacuation plans on every floor</li><li>\n",
    "Conduct fire drills regularly so people know what to do</li><li>\n",
    "Ensure emergency exits are clear and marked</li></ul>\n",
    "\n",
    "<p>3. Train Building Occupants</p><ul><li>\n",
    "Train employees, residents, and guards on:</li><li>\n",
    "How to use fire extinguishers</li><li>\n",
    "How to evacuate safely</li><li>Whom to call during a fire </li></ul>\n",
    "\n",
    "<p>4. Strict Fire Safety Laws</p><ul><li>\n",
    "Enforce building safety regulations strictly</li><li>\n",
    "Impose penalties for non-compliance</li><li>\n",
    "Conduct annual fire audits for commercial and residential buildings</li></ul>\n",
    "\n",
    "<p> 5. Urban Planning Support</p><ul><li>\n",
    "Ensure that fire trucks have access to all areas\n",
    "</li><li>Plan wider entry routes and clear zones around buildings\n",
    "</li><li>Avoid unauthorized construction that blocks safety routes\n",
    "</li></ul>\n",
    "</h2>"
   ]
  },
  {
   "cell_type": "markdown",
   "id": "316c69c3",
   "metadata": {},
   "source": [
    "<div style=\"background-color: rgb(31, 174, 222); color: white; padding: 10px; text-align: center;\">\n",
    "    <h1>_________________________________END________________________________\n",
    "    </h1> </div>"
   ]
  },
  {
   "cell_type": "markdown",
   "id": "b7975092",
   "metadata": {},
   "source": [
    "<div style=\"background-color: #002147; color: #fff; padding: 30px; text-align: center;\">\n",
    "    <h1>THANK YOU!       \n",
    "</h1> </div>"
   ]
  }
 ],
 "metadata": {
  "language_info": {
   "name": "python"
  }
 },
 "nbformat": 4,
 "nbformat_minor": 5
}
