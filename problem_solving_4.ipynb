{
 "cells": [
  {
   "cell_type": "markdown",
   "id": "50601534",
   "metadata": {},
   "source": [
    "<div style=\"background-color:rgb(31, 174, 222); padding: 10px; height: 70px; border-radius: 15px;\">\n",
    "    <div style=\"font-family: 'Georgia', serif; font-size: 20px; padding: 10px; text-align: right; position: absolute; right: 20px;\">\n",
    "        Deepika <br>\n",
    "        <span style=\"font-family: 'Arial', sans-serif;font-size: 12px; color: #0a0a0a;\">AIML Trainee | AI/ML bootcamp</span> <!--- Suhana | CodroidHub Private Limited | AI/ML Consultant --->\n",
    "    </div>\n",
    "</div>"
   ]
  },
  {
   "cell_type": "markdown",
   "id": "4fdb41f5",
   "metadata": {},
   "source": [
    "<div style=\"background-color: #002147; padding: 10px; text-align: center; color: white; font-size: 32px; font-family: 'Arial', sans-serif;\">\n",
    "     Real-World Scenario: Student Mental Health Crisis  <br>\n",
    "    <h3 style=\"text-align: center; color: white; font-size: 15px; font-family: 'Arial', sans-serif;\">Problem_4</h3>\n",
    "</div>"
   ]
  },
  {
   "cell_type": "markdown",
   "id": "4d9b4c0d",
   "metadata": {},
   "source": [
    "<div style=\"background-color: #6495ED; color: black; padding: 4px;\">\n",
    "    <h1> 4W's Problem Scoping\n",
    "</h1> </div>\n"
   ]
  },
  {
   "cell_type": "markdown",
   "id": "6cd76c19",
   "metadata": {},
   "source": [
    "<div style=\"background-color: lightgreen; color: black; padding: 4px;\">\n",
    "<h1><ul><li>\n",
    "What is the problem?\n",
    "</li></ul>\n",
    "</h1></div>"
   ]
  },
  {
   "cell_type": "markdown",
   "id": "72ea8133",
   "metadata": {},
   "source": [
    "<h2><p>The student mental health crisis refers to the<b> increasing number of students experiencing serious emotional and psychological difficulties. </b>This includes:</p></h2>\n",
    "<h2><p><ul><li><b>Stress and Anxiety:</b> Due to constant academic pressure, deadlines, and the need to succeed.</li>\n",
    "<li><b>Depression: </b>Feelings of sadness, loneliness, or hopelessness, often linked to social pressures or personal struggles.</li>\n",
    "<li><b>Self-harm or Suicidal Thoughts:</b> In severe cases, students may feel overwhelmed and unable to cope.</li>\n",
    "</ul>\n",
    "These issues are deeply affecting students’ ability to focus, learn, and perform. Many students also suffer in silence, without proper support.</p></h2>"
   ]
  },
  {
   "cell_type": "markdown",
   "id": "cd078ed2",
   "metadata": {},
   "source": [
    "<div style=\"background-color: lightgreen; color: black; padding: 4px;\">\n",
    "<h1><ul><li>\n",
    " Who is Affected? \n",
    "</li></ul>\n",
    "</h1></div>"
   ]
  },
  {
   "cell_type": "markdown",
   "id": "7c1880fa",
   "metadata": {},
   "source": [
    "<h2><p><b>Primary Group:</b>\n",
    "<ul><li>High school and college students from all backgrounds, especially teenagers and young adults, are the most affected.</li></ul></p><h2>"
   ]
  },
  {
   "cell_type": "markdown",
   "id": "5df3087f",
   "metadata": {},
   "source": [
    "<h2><p><b>Secondary Groups:</b>\n",
    "<ul><li><b>Teachers:</b> Often notice changes but aren’t trained to handle serious mental health issues.</li>\n",
    "<li><b>Parents: </b>May miss the signs or misunderstand the situation, sometimes dismissing it as \"normal teenage behavior\".</li>\n",
    "<li><b>Peers:</b> Friends and classmates may see warning signs but don’t know how to help.</li>\n",
    "</ul></p><h2>"
   ]
  },
  {
   "cell_type": "markdown",
   "id": "62977efd",
   "metadata": {},
   "source": [
    "<div style=\"background-color: lightgreen; color: black; padding: 4px;\">\n",
    "<h1><ul><li>\n",
    " Why is This Happening?\n",
    "</li></ul>\n",
    "</h1></div>"
   ]
  },
  {
   "cell_type": "markdown",
   "id": "0c05d9c1",
   "metadata": {},
   "source": [
    "<h2><p><b>Academic Pressure:</b>\n",
    "<ul><li>Students are expected to get high grades, excel in multiple areas, and compete for limited opportunities </li>\n",
    "<li>Fear of failure or not meeting expectations creates constant performance anxiety.</li><br>\n",
    "</ul></p></h2>"
   ]
  },
  {
   "cell_type": "markdown",
   "id": "444ba679",
   "metadata": {},
   "source": [
    "<h2><p><b>Social Media Influence</b>\n",
    "<ul><li>Students often compare themselves to others’ \"perfect\" lives online, leading to low self-esteem, body image issues, or feeling left out.</li>\n",
    "<li>Cyberbullying adds to the stress and emotional harm.\n",
    "\n",
    "</li>\n",
    "<ul>\n",
    "</p></h2>"
   ]
  },
  {
   "cell_type": "markdown",
   "id": "8e33d928",
   "metadata": {},
   "source": [
    "<h2><p><b>Family & Personal Issues</b>\n",
    "<ul><li>Issues like family conflict, financial problems, lack of communication, or overprotectiveness can increase emotional stress.</li></ul></p></h2>\n",
    "\n",
    "\n"
   ]
  },
  {
   "cell_type": "markdown",
   "id": "989bf094",
   "metadata": {},
   "source": [
    "<div style=\"background-color: lightgreen; color: black; padding: 4px;\">\n",
    "<h1><ul><li>\n",
    " Where is This Happening? \n",
    "</li></ul>\n",
    "</h1></div>"
   ]
  },
  {
   "cell_type": "markdown",
   "id": "a1311468",
   "metadata": {},
   "source": [
    "<h2><p><b>Globally:</b>\n",
    "<ul><li>This is not limited to one country or region. </li></ul>\n",
    "Online spaces are also a significant factor, as much of the stress comes from virtual platforms.\n",
    "\n",
    "\n",
    "</p></h2>"
   ]
  },
  {
   "cell_type": "markdown",
   "id": "a8999d3f",
   "metadata": {},
   "source": [
    "<div style=\"background-color: #6495ED; color: black; padding: 4px;\">\n",
    "    <h1> Solution:</h1> </div>\n"
   ]
  },
  {
   "cell_type": "markdown",
   "id": "afcfafd3",
   "metadata": {},
   "source": [
    "<h2><p>1. Mental Health Services in Schools </p></h2>\n",
    "<h3><p>*Schools must employ trained counselors and therapists.<br><br>\n",
    "*Set up wellness rooms or help centers where students can talk about their problems without judgment.</p></h3>\n",
    "<h2><p>2. Mental Health Education</p></h2>\n",
    "<h3><p>*Include peer support training, so students can help one another responsibly.<br><br>\n",
    "*Run workshops for teachers and parents on how to identify early signs of distress.\n",
    "<h2><p>3. Positive School Environment</p></h2>\n",
    "<h3><p>*Create a school culture where kindness, respect, and inclusion are valued.<br><br>\n",
    "*Celebrate different types of achievement – not just academic scores.</p></h3>\n",
    "\n",
    "\n",
    "\n",
    "\n",
    "\n",
    "\n",
    "\n"
   ]
  },
  {
   "cell_type": "markdown",
   "id": "07381d71",
   "metadata": {},
   "source": [
    "<div style=\"background-color: rgb(31, 174, 222); color: white; padding: 10px; text-align: center;\">\n",
    "    <h1>_________________________________END________________________________\n",
    "    </h1> </div>"
   ]
  },
  {
   "cell_type": "markdown",
   "id": "cf341dea",
   "metadata": {},
   "source": [
    "<div style=\"background-color: #002147; color: #fff; padding: 30px; text-align: center;\">\n",
    "    <h1>THANK YOU!       \n",
    "</h1> </div>"
   ]
  }
 ],
 "metadata": {
  "language_info": {
   "name": "python"
  }
 },
 "nbformat": 4,
 "nbformat_minor": 5
}
