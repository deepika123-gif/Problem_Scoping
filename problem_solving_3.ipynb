{
 "cells": [
  {
   "cell_type": "markdown",
   "id": "1fec68df",
   "metadata": {},
   "source": [
    "\n",
    "<div style=\"background-color:rgb(31, 174, 222); padding: 10px; height: 70px; border-radius: 15px;\">\n",
    "    <div style=\"font-family: 'Georgia', serif; font-size: 20px; padding: 10px; text-align: right; position: absolute; right: 20px;\">\n",
    "        Deepika <br>\n",
    "        <span style=\"font-family: 'Arial', sans-serif;font-size: 12px; color: #0a0a0a;\">AIML Trainee | AI/ML bootcamp</span> <!--- Suhana | CodroidHub Private Limited | AI/ML Consultant --->\n",
    "    </div>\n",
    "</div>"
   ]
  },
  {
   "cell_type": "markdown",
   "id": "94d80c7f",
   "metadata": {},
   "source": [
    "<div style=\"background-color: #002147; padding: 10px; text-align: center; color: white; font-size: 32px; font-family: 'Arial', sans-serif;\">\n",
    "     Real-World Scenario: Low Student Engagement in Online Learning Platform  <br>\n",
    "    <h3 style=\"text-align: center; color: white; font-size: 15px; font-family: 'Arial', sans-serif;\">Problem_3</h3>\n",
    "</div>"
   ]
  },
  {
   "cell_type": "markdown",
   "id": "a25ecfa4",
   "metadata": {},
   "source": [
    "<div style=\"background-color: lightgreen; color: black; padding: 4px;\">\n",
    "<h1><ul><li>\n",
    "What is the problem?\n",
    "</li></ul>\n",
    "</h1></div>"
   ]
  },
  {
   "cell_type": "markdown",
   "id": "2dd7fa07",
   "metadata": {},
   "source": [
    "<h2><p>Students are not actively participating in online classes an discussion on our e-leraning plateform. the completion rate for online course has been has dropped by 30% over the past semester.</p></h2>"
   ]
  },
  {
   "cell_type": "markdown",
   "id": "ba677656",
   "metadata": {},
   "source": [
    "<div style=\"background-color: lightgreen; color: black; padding: 4px;\">\n",
    "<h1><ul><li>\n",
    " Why is it a problem?\n",
    "</li></ul>\n",
    "</h1></div>"
   ]
  },
  {
   "cell_type": "markdown",
   "id": "f0ee94aa",
   "metadata": {},
   "source": [
    "\n",
    "<h2><p>Low engagement affects student learning outcomes and course effectiveness. It also impacts the platform’s reputation and could lead to reduced enrollment in future terms.</p></h2>"
   ]
  },
  {
   "cell_type": "markdown",
   "id": "f7fa0c7f",
   "metadata": {},
   "source": [
    "<div style=\"background-color: lightgreen; color: black; padding: 4px;\">\n",
    "<h1><ul><li>\n",
    " Where is the problem occurring?\n",
    "</li></ul>\n",
    "</h1></div>"
   ]
  },
  {
   "cell_type": "markdown",
   "id": "6e9470a9",
   "metadata": {},
   "source": [
    "<h2><p>The issue is mostly seen in undergraduate courses, especially in first-year classes across humanities and business departments.\n",
    "</p></h2>"
   ]
  },
  {
   "cell_type": "markdown",
   "id": "0f33e3dc",
   "metadata": {},
   "source": [
    "<div style=\"background-color: lightgreen; color: black; padding: 4px;\">\n",
    "<h1><ul><li>\n",
    " Who is affected by the problem?\n",
    "</li></ul>\n",
    "</h1></div>"
   ]
  },
  {
   "cell_type": "markdown",
   "id": "aa1bc885",
   "metadata": {},
   "source": [
    "<h2><p>* Students: Missing out on key learning experiences<p>\n",
    "\n",
    "<p>* Instructors: Struggling to motivate and engage students<p>\n",
    "\n",
    "<p>* Academic Institution: Risking lower course ratings and retention rates\n",
    "\n",
    "</p><h2>"
   ]
  },
  {
   "cell_type": "markdown",
   "id": "e671eb40",
   "metadata": {},
   "source": [
    "<div style=\"background-color: #6495ED; color: black; padding: 4px;\">\n",
    "    <h1> Proposed  Solution:</h1> </div>\n"
   ]
  },
  {
   "cell_type": "markdown",
   "id": "c5e4a17f",
   "metadata": {},
   "source": [
    "<div style=\"background-color: lightgreen; color: black; padding: 4px;\">\n",
    "<h2><p>1. Improve Course Design:\n",
    "</p></h2>\n",
    "</div>\n",
    "<h3><p>* \n",
    "Break content into shorter, interactive modules</p>\n",
    "<p>* Add quizzes, polls, and group activities to encourage participation<p></h3>\n"
   ]
  },
  {
   "cell_type": "markdown",
   "id": "45121451",
   "metadata": {},
   "source": [
    "<div style=\"background-color: lightgreen; color: black; padding: 4px;\">\n",
    "<h2><p>2.Incentivize Participation:\n",
    "</p></h2>\n",
    "</div>\n",
    "<h3><p>*Offer badges or small rewards for completing modules \n",
    "</p>\n",
    "<p>* Add participation to grading criteria<p></h3>\n"
   ]
  },
  {
   "cell_type": "markdown",
   "id": "bb095298",
   "metadata": {},
   "source": [
    "<div style=\"background-color: lightgreen; color: black; padding: 4px;\">\n",
    "<h2><p>3. Provide Support:\n",
    "</p></h2>\n",
    "</div>\n",
    "<h3><p>*Train faculty in digital teaching methods \n",
    "</p>\n",
    "<p>* Assign teaching assistants to help moderate discussions and support students<p></h3>\n"
   ]
  },
  {
   "cell_type": "markdown",
   "id": "f8c95031",
   "metadata": {},
   "source": [
    "<div style=\"background-color: #6495ED; color: black; padding: 4px;\">\n",
    "<h1> Expected Outcome</h1>\n",
    "\n",
    "\n"
   ]
  },
  {
   "cell_type": "markdown",
   "id": "3875b514",
   "metadata": {},
   "source": [
    "<h3><p>*Increase in student engagement by 40% within the next semester</p>\n",
    "<p>*Higher course completion rates and better feedback from</p>\n",
    "<p>*Improved satisfaction for both students and faculty</p>\n",
    "</h3>"
   ]
  }
 ],
 "metadata": {
  "kernelspec": {
   "display_name": "Python 3",
   "language": "python",
   "name": "python3"
  },
  "language_info": {
   "codemirror_mode": {
    "name": "ipython",
    "version": 3
   },
   "file_extension": ".py",
   "mimetype": "text/x-python",
   "name": "python",
   "nbconvert_exporter": "python",
   "pygments_lexer": "ipython3",
   "version": "3.13.2"
  }
 },
 "nbformat": 4,
 "nbformat_minor": 5
}
