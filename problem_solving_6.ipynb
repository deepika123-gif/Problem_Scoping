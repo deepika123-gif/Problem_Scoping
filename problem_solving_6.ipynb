{
 "cells": [
  {
   "cell_type": "markdown",
   "id": "22216578",
   "metadata": {},
   "source": [
    "<div style=\"background-color:rgb(31, 174, 222); padding: 10px; height: 70px; border-radius: 15px;\">\n",
    "    <div style=\"font-family: 'Georgia', serif; font-size: 20px; padding: 10px; text-align: right; position: absolute; right: 20px;\">\n",
    "        Deepika <br>\n",
    "        <span style=\"font-family: 'Arial', sans-serif;font-size: 12px; color: #0a0a0a;\">AIML Trainee | AI/ML bootcamp</span> <!--- Suhana | CodroidHub Private Limited | AI/ML Consultant --->\n",
    "    </div>\n",
    "</div>"
   ]
  },
  {
   "cell_type": "markdown",
   "id": "501db3a7",
   "metadata": {},
   "source": [
    "<div style=\"background-color: #002147; padding: 10px; text-align: center; color: white; font-size: 32px; font-family: 'Arial', sans-serif;\">\n",
    "     Real-World Scenario: Apartment Fire Emergency <br>\n",
    "    <h3 style=\"text-align: center; color: white; font-size: 15px; font-family: 'Arial', sans-serif;\">Problem_6</h3>\n",
    "</div>"
   ]
  },
  {
   "cell_type": "markdown",
   "id": "28116904",
   "metadata": {},
   "source": [
    "<div style=\"background-color: #6495ED; color: black; padding: 4px;\">\n",
    "    <h1> 4W's Problem Scoping\n",
    "</h1> </div>\n"
   ]
  },
  {
   "cell_type": "markdown",
   "id": "4bbbb14d",
   "metadata": {},
   "source": [
    "\n",
    "<div style=\"background-color: lightgreen; color: black; padding: 4px;\">\n",
    "<h1><ul><li>\n",
    "What Happened?\n",
    "</li></ul>\n",
    "</h1></div>"
   ]
  },
  {
   "cell_type": "markdown",
   "id": "bdcfaa27",
   "metadata": {},
   "source": [
    "<h2><p>A <b>fire broke out in an apartment building, </b>causing <b>severe damage to property, </b>putting the lives of residents at risk, and leading to <b>injuries or even fatalities.</b> Residents had to ,<b>evacuate the building,</b> and emergency services like <b>firefighters and medical teams</b> were called to the scene.</p>\n",
    "<p>Common consequences:</p>\n",
    "<ul><li>Destruction of homes and belongings</li>\n",
    "<li>Power outage and smoke inhalation risks</li>\n",
    "<li>Temporary homelessness for affected families</li>\n",
    "<li>Panic and confusion during evacuation</li>\n",
    "</h2>"
   ]
  },
  {
   "cell_type": "markdown",
   "id": "ad9f9fdc",
   "metadata": {},
   "source": [
    "<div style=\"background-color: lightgreen; color: black; padding: 4px;\">\n",
    "<h1><ul><li>\n",
    "Where Did It Happen?</li></ul>\n",
    "</h1></div>"
   ]
  },
  {
   "cell_type": "markdown",
   "id": "347f208c",
   "metadata": {},
   "source": [
    "<h2><p>The fire occurred in a residential apartment complex, which could be:</p>\n",
    "<ul><li>In a city or town area where many families live closely together</li>\n",
    "<li>In multi-story buildings where fires can spread quickly</li>\n",
    "<li>In places with shared utilities</li>\n",
    "<li>Sometimes in low-maintenance or old buildings lacking proper safety checks</li>\n",
    "</ul>\n",
    "<p>Fires in apartments can quickly affect<b> multiple families </b>due to connected walls, ceilings, or shared stairways and elevators.</p>\n",
    "\n",
    "</h2>"
   ]
  },
  {
   "cell_type": "markdown",
   "id": "8e2c1e16",
   "metadata": {},
   "source": [
    "<div style=\"background-color: lightgreen; color: black; padding: 4px;\">\n",
    "<h1><ul><li>\n",
    " When Did It Happen?</li></ul>\n",
    "</h1></div>"
   ]
  },
  {
   "cell_type": "markdown",
   "id": "74bfad6a",
   "metadata": {},
   "source": [
    "<h2><p>The fire may have started:</p>\n",
    "<ul><li><b>At night,</b> when most residents are asleep — making it more dangerous</li>\n",
    "<li><b>During the day, </b>when fewer people are home — delaying the response</li>\n",
    "<li>During <b>festivals or holidays</b> when<b> fireworks or candles</b> are common</li>\n",
    "</ul>\n",
    "<p>Timely response is critical — <b>delayed alerts or poor emergency planning </b>often worsen the situation.</p>\n",
    "</h2>"
   ]
  },
  {
   "cell_type": "markdown",
   "id": "3bca958d",
   "metadata": {},
   "source": [
    "<div style=\"background-color: lightgreen; color: black; padding: 4px;\">\n",
    "<h1><ul><li>\n",
    " Why Did It Happen?</li></ul>\n",
    "</h1></div>"
   ]
  },
  {
   "cell_type": "markdown",
   "id": "b8a38cf0",
   "metadata": {},
   "source": [
    "<h2><p>Fires in apartment buildings can occur due to many <b>preventable reasons, </b>such as:</p>\n",
    "<p><b>Electrical Issues:</b>\n",
    "<ul><li>Short circuits, overloaded plugs, or old wiring</li>\n",
    "<li>Using cheap or damaged electrical appliances</li>\n",
    "</ul></p>\n",
    "<b>Gas Leaks:</b>\n",
    "<ul><li>xLeakage from cooking gas cylinders or pipes</li>\n",
    "<li>Igniting stoves without checking for leaks</li>\n",
    "</ul>\n",
    "<b> Negligence:</b>\n",
    "<ul><li>Leaving the stove on unattended</li>\n",
    "<li>Burning candles or incense sticks near curtains or beds</li>\n",
    "<li>Kids playing with matches or lighters</li>\n",
    "\n",
    "\n",
    "</h2>"
   ]
  },
  {
   "cell_type": "markdown",
   "id": "d3708586",
   "metadata": {},
   "source": [
    "<div style=\"background-color: #6495ED; color: black; padding: 4px;\">\n",
    "  <h1>  Solutions and Safety Measures\n",
    "</h1> </div>"
   ]
  },
  {
   "cell_type": "markdown",
   "id": "aa23951e",
   "metadata": {},
   "source": [
    "<h2><p><b> 1. Install Safety Devices</b></p>\n",
    "<ul><li>Smoke detectors, fire alarms, and sprinklers in all apartments and hallways</li>\n",
    "<li>Gas leak sensors in kitchens\n",
    "</li></ul>\n",
    "\n",
    "<b> 2. Fire Safety Checks</b>\n",
    "<p>*Regular inspection of:</p>\n",
    "<ul><li>Electrical wiring</li>\n",
    "<li>Gas pipelines</li>\n",
    "<li>Emergency lights and exits</li></ul>\n",
    "<p>*Ensure escape routes are always clear</p>\n",
    "\n",
    "<b> 3. Awareness & Training</b>\n",
    "<p>*Conduct fire drills every few months for residents</p>\n",
    "<p>*Teach people how to:</p>\n",
    "<ul><li>Use a fire extinguisher</li>\n",
    "<li>Stop, drop, and roll if their clothes catch fire</li>\n",
    "<li>Evacuate safely without using elevators\n",
    "</li></ul>\n",
    "<b> 4. Emergency Contacts</b>\n",
    "<ul><li>Display fire department numbers and emergency contacts in common areas</li>\n",
    "<li>Set up a resident safety group or watch team</li></ul>\n",
    "\n",
    "<b> 5. Community Planning</b>\n",
    "<p>*Every apartment building should have:</p>\n",
    "<ul><li>A clear evacuation plan</li>\n",
    "<li>An assembly point for residents to gather safely</li>\n",
    "<li>Backup power and water systems in case of emergenc</li>\n",
    "</h2>\n"
   ]
  },
  {
   "cell_type": "markdown",
   "id": "e1b1f3eb",
   "metadata": {},
   "source": [
    "<div style=\"background-color: rgb(31, 174, 222); color: white; padding: 10px; text-align: center;\">\n",
    "    <h1>_________________________________END________________________________\n",
    "    </h1> </div>"
   ]
  },
  {
   "cell_type": "markdown",
   "id": "8496e55c",
   "metadata": {},
   "source": [
    "<div style=\"background-color: #002147; color: #fff; padding: 30px; text-align: center;\">\n",
    "    <h1>THANK YOU!       \n",
    "</h1> </div>"
   ]
  }
 ],
 "metadata": {
  "language_info": {
   "name": "python"
  }
 },
 "nbformat": 4,
 "nbformat_minor": 5
}
