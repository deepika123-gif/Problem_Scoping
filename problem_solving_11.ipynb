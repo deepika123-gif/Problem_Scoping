{
 "cells": [
  {
   "cell_type": "markdown",
   "id": "8dd4ed8c",
   "metadata": {},
   "source": [
    "<div style=\"background-color:rgb(31, 174, 222); padding: 10px; height: 70px; border-radius: 15px;\">\n",
    "    <div style=\"font-family: 'Georgia', serif; font-size: 20px; padding: 10px; text-align: right; position: absolute; right: 20px;\">\n",
    "        Deepika <br>\n",
    "        <span style=\"font-family: 'Arial', sans-serif;font-size: 12px; color: #0a0a0a;\">AIML Trainee | AI/ML bootcamp</span> <!--- Suhana | CodroidHub Private Limited | AI/ML Consultant --->\n",
    "    </div>\n",
    "</div>"
   ]
  },
  {
   "cell_type": "markdown",
   "metadata": {},
   "source": [
    "<div style=\"background-color: #002147; padding: 10px; text-align: center; color: white; font-size: 32px; font-family: 'Arial', sans-serif;\">\n",
    "     Real-World Scenario:  Tourist Season Overload <br>\n",
    "    <h3 style=\"text-align: center; color: white; font-size: 15px; font-family: 'Arial', sans-serif;\">Problem_11</h3>\n",
    "</div>"
   ]
  },
  {
   "cell_type": "markdown",
   "id": "b76e602c",
   "metadata": {},
   "source": [
    "<div style=\"background-color: #6495ED; color: black; padding: 4px;\">\n",
    "    <h1> 4W's Problem Scoping\n",
    "</h1> </div>"
   ]
  },
  {
   "cell_type": "markdown",
   "metadata": {},
   "source": [
    "\n",
    "<div style=\"background-color: lightgreen; color: black; padding: 4px;\">\n",
    "<h1><ul><li>\n",
    " What is the Problem?\n",
    "</li></ul>\n",
    "</h1></div>"
   ]
  },
  {
   "cell_type": "markdown",
   "id": "4d38c0b0",
   "metadata": {},
   "source": [
    "<h2><p><b>\n",
    "Urban traffic congestion in Rome</b> drastically increases during peak tourist seasons. The influx of tourist buses, taxis, private vehicles, and rental scooters overwhelms the narrow, historic streets—leading to long delays, pollution, noise, and frustrated locals. Public transport is overcrowded, and emergency vehicle access is often obstructed.\n",
    "</p></h2>"
   ]
  },
  {
   "cell_type": "markdown",
   "id": "59af27a7",
   "metadata": {},
   "source": [
    "\n",
    "<div style=\"background-color: lightgreen; color: black; padding: 4px;\">\n",
    "<h1><ul><li>\n",
    "When does it occur?\n",
    "</li></ul>\n",
    "</h1></div>"
   ]
  },
  {
   "cell_type": "markdown",
   "id": "840099fc",
   "metadata": {},
   "source": [
    "<h2><P>This issue is most severe during <b>spring and summer months (April to September),</b> which mark the<b> peak tourist seasons</b> in Rome. Specific spikes occur during international holidays (Easter, summer vacations, long weekends) when footfall in historic districts like the Colosseum, Vatican City, and Trevi Fountain increases dramatically.\n",
    "</p></h2>"
   ]
  },
  {
   "cell_type": "markdown",
   "metadata": {},
   "source": [
    "<div style=\"background-color: lightgreen; color: black; padding: 4px;\">\n",
    "<h1><ul><li>\n",
    " Where does it happen?\n",
    "</li></ul>\n",
    "</h1></div>"
   ]
  },
  {
   "cell_type": "markdown",
   "id": "36d60fcf",
   "metadata": {},
   "source": [
    "<h2><p>The congestion is concentrated in Rome’s historic city center—including:\n",
    "</p>\n",
    "<ul><li>The Colosseum area</lli><lli>\n",
    "Piazza Venezia</li><i>\n",
    "Vatican City</li><li>\n",
    "Spanish Steps</li><lli>\n",
    "Trastevere and Pantheon districts\n",
    "</li></ul>These areas are not designed for heavy vehicle traffic and are already limited by narrow, ancient roads.\n",
    "\n",
    "\n",
    "</h2>"
   ]
  },
  {
   "cell_type": "markdown",
   "id": "d81da16c",
   "metadata": {},
   "source": [
    "<div style=\"background-color: lightgreen; color: black; padding: 4px;\">\n",
    "<h1><ul><li>\n",
    "Why does it happen?\n",
    "</li></ul>\n",
    "</h1></div>"
   ]
  },
  {
   "cell_type": "markdown",
   "id": "998dcf7f",
   "metadata": {},
   "source": [
    "<h2><p><ul><li>High volume of tourist buses and taxis entering the old city with no traffic control restrictions.\n",
    "</li><li>\n",
    "Lack of regulation on ride-hailing services and scooters, leading to chaotic parking and sudden stops.\n",
    "</li><li>\n",
    "Inadequate public transport capacity, especially in peak months.\n",
    "</li><li>\n",
    "Limited pedestrian-only zones, allowing vehicle access too close to major attractions.\n",
    "</li><li>\n",
    "Poor coordination of tourist services, such as staggered entry times or shuttle systems.\n",
    "\n",
    "</li></ul></p></h2>"
   ]
  },
  {
   "cell_type": "markdown",
   "metadata": {},
   "source": [
    "<div style=\"background-color: #6495ED; color: black; padding: 4px;\">\n",
    "  <h1> \n",
    "   Proposed Solutions\n",
    "\n",
    "</h1> </div>"
   ]
  },
  {
   "cell_type": "markdown",
   "id": "3f816da9",
   "metadata": {},
   "source": [
    "<h2><p><b><i>Short-term Solutions:</i></b></p>\n",
    "<p>1. Implement Time-Based Access Restrictions:</p>\n",
    "<ul><li>Limit vehicle entry  to certain hours of the day.\n",
    "</li><li>\n",
    "Promote pedestrian-only zones during peak hours (e.g., 10 am – 6 pm).</li></ul>\n",
    "\n",
    "<p>2. Designate Remote Tourist Bus Parking Zones:</p><ul>\n",
    "<li>Create parking hubs outside the city center with eco-shuttle transfers to historic sites.\n",
    "\n",
    "</li></ul>\n",
    "\n",
    "<p>3. Introduce a Tourist Mobility Pass:</p><ul><li>\n",
    "Provide tourists with a pass that includes discounted or free public transport and shuttle access, reducing dependency on taxis and rentals.</li></ul>\n",
    "\n",
    "<p>4. Better Regulation of Ride-Hailing and Scooter Services:\n",
    "</p><ul><li>\n",
    "Create designated drop-off and pick-up points.\n",
    "</li><li>\n",
    "Limit the number of vehicles operating in high-density zones during peak hours.\n",
    "</li></ul>\n",
    "\n",
    "\n",
    "<p><b><i>Long-term Solutions:</i></b></p>\n",
    "<p>1. Expand and Modernize Public Transport:</p><ul><li>\n",
    "Increase the frequency and capacity of buses, trams, and metro services, especially during tourist months.\n",
    "</li></ul>\n",
    "<p>2. Develop a Smart Traffic Management System:</p><ul><li>\n",
    "Use AI and sensors to monitor traffic flow and dynamically adjust routes or signals.\n",
    "</li></ul>\n",
    "<p>3. Promote Cultural Spread:</p><ul><li>\n",
    "Encourage tourism in less congested areas by promoting alternative historical and cultural sites around the city.\n",
    "</li></ul>\n",
    "<p>4. Introduce a Tourist Congestion Tax:</p></ul><li>\n",
    "Charge tour operators for entering certain zones during peak hours, using funds to improve public transit and infrastructure.\n",
    "</li></ul></h2>\n"
   ]
  },
  {
   "cell_type": "markdown",
   "id": "32784f0c",
   "metadata": {},
   "source": [
    "<div style=\"background-color: rgb(31, 174, 222); color: white; padding: 10px; text-align: center;\">\n",
    "    <h1>_________________________________END________________________________\n",
    "    </h1> </div>"
   ]
  },
  {
   "cell_type": "markdown",
   "metadata": {},
   "source": [
    "<div style=\"background-color: #002147; color: #fff; padding: 30px; text-align: center;\">\n",
    "    <h1>THANK YOU!       \n",
    "</h1> </div>"
   ]
  },
  {
   "cell_type": "markdown",
   "id": "1bb6fba4",
   "metadata": {},
   "source": [
    "<h2><p>"
   ]
  }
 ],
 "metadata": {
  "language_info": {
   "name": "python"
  }
 },
 "nbformat": 4,
 "nbformat_minor": 5
}
