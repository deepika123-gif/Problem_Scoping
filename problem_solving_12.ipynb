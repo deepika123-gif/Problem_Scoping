{
 "cells": [
  {
   "cell_type": "markdown",
   "id": "e7569d19",
   "metadata": {},
   "source": [
    "<div style=\"background-color:rgb(31, 174, 222); padding: 10px; height: 70px; border-radius: 15px;\">\n",
    "    <div style=\"font-family: 'Georgia', serif; font-size: 20px; padding: 10px; text-align: right; position: absolute; right: 20px;\">\n",
    "        Deepika <br>\n",
    "        <span style=\"font-family: 'Arial', sans-serif;font-size: 12px; color: #0a0a0a;\">AIML Trainee | AI/ML bootcamp</span> <!--- Suhana | CodroidHub Private Limited | AI/ML Consultant --->\n",
    "    </div>\n",
    "</div>"
   ]
  },
  {
   "cell_type": "markdown",
   "id": "15971015",
   "metadata": {},
   "source": [
    "<div style=\"background-color: #002147; padding: 10px; text-align: center; color: white; font-size: 32px; font-family: 'Arial', sans-serif;\">\n",
    "     Real-World Scenario:  Food Waste in Urban Areas <br>\n",
    "    <h3 style=\"text-align: center; color: white; font-size: 15px; font-family: 'Arial', sans-serif;\">Problem_12</h3>\n",
    "</div>"
   ]
  },
  {
   "cell_type": "markdown",
   "id": "58dd3805",
   "metadata": {},
   "source": [
    "<div style=\"background-color: #6495ED; color: black; padding: 4px;\">\n",
    "    <h1> 4W's Problem Scoping\n",
    "</h1> </div>"
   ]
  },
  {
   "cell_type": "markdown",
   "id": "e71c1d2b",
   "metadata": {},
   "source": [
    "\n",
    "<div style=\"background-color: lightgreen; color: black; padding: 4px;\">\n",
    "<h1><ul><li>\n",
    " What is the Problem?\n",
    "</li></ul>\n",
    "</h1></div>"
   ]
  },
  {
   "cell_type": "markdown",
   "id": "6ded45d4",
   "metadata": {},
   "source": [
    "<h2><p>Food waste refers to food that is produced, purchased, but not consumed — it is thrown away at homes, supermarkets, restaurants, or during transport. This leads to:</p>\n",
    "<ul><li>\n",
    "Wasted resources</li><li>\n",
    "Greenhouse gas emissions </li><li>\n",
    "Ethical issues, while millions of people go hungry\n",
    "</li></ul>\n",
    "</h2>"
   ]
  },
  {
   "cell_type": "markdown",
   "id": "02aa5c42",
   "metadata": {},
   "source": [
    "\n",
    "<div style=\"background-color: lightgreen; color: black; padding: 4px;\">\n",
    "<h1><ul><li>\n",
    " When is it Happening?\n",
    "</li></ul>\n",
    "</h1></div>"
   ]
  },
  {
   "cell_type": "markdown",
   "id": "6a25eb6d",
   "metadata": {},
   "source": [
    "<h2><p>Food waste happens daily in homes and food businesses. It increases during:</p>\n",
    "</p><ul><li>Festivals and holidays</li><li>\n",
    "Supermarket clearance days</li><li>\n",
    "Times of over-purchasing and panic buying </li></ul></h2>\n",
    "\n"
   ]
  },
  {
   "cell_type": "markdown",
   "id": "b3590d02",
   "metadata": {},
   "source": [
    "<div style=\"background-color: lightgreen; color: black; padding: 4px;\">\n",
    "<h1><ul><li>\n",
    " Where is it Happening?\n",
    "</li></ul>\n",
    "</h1></div>"
   ]
  },
  {
   "cell_type": "markdown",
   "id": "367aefd8",
   "metadata": {},
   "source": [
    "<h2><p>Food waste is a global problem, especially in urban and developed areas, including:\n",
    "</p><ul><li><b>\n",
    "United States </b>(over 30% of food wasted)</li><li><b>\n",
    "Europe </b>(restaurants and supermarkets waste tons)\n",
    "</li><li><b>\n",
    "India and China</b> (waste occurs during transportation and in homes)\n",
    "</li><li><b>\n",
    "Hotels, schools, offices,</b>\n",
    " and food courts in cities worldwide</li></ul></h2>\n",
    "\n"
   ]
  },
  {
   "cell_type": "markdown",
   "id": "29b2285c",
   "metadata": {},
   "source": [
    "<div style=\"background-color: lightgreen; color: black; padding: 4px;\">\n",
    "<h1><ul><li>\n",
    " Why is it Happening?\n",
    "</li></ul>\n",
    "</h1></div>"
   ]
  },
  {
   "cell_type": "markdown",
   "id": "d1784142",
   "metadata": {},
   "source": [
    "<h2><ul><li>Overbuying and poor planning at the consumer level</li><li>\n",
    "Restaurants cooking more than needed</li><li>\n",
    "Lack of awareness about food expiry or storage</li><li>\n",
    "Strict appearance standards by supermarkets (ugly-looking fruits/vegetables rejected)\n",
    "</li><li>\n",
    "Poor storage and transportation in supply chains (especially in developing countries)\n",
    "</li></ul></h2>\n"
   ]
  },
  {
   "cell_type": "markdown",
   "id": "a708a45e",
   "metadata": {},
   "source": [
    "<div style=\"background-color: #6495ED; color: black; padding: 4px;\">\n",
    "  <h1> \n",
    " Solution to Food Waste\n",
    "\n",
    "</h1> </div>"
   ]
  },
  {
   "cell_type": "markdown",
   "id": "5cf91572",
   "metadata": {},
   "source": [
    "<h2><p><b>1.Awareness and Education</b></p><ul><li>\n",
    "Teach consumers how to plan meals, store food, and understand expiry labels\n",
    "</li><li>\n",
    "School and public campaigns: “Buy what you need, eat what you take”\n",
    "</li></ul>\n",
    "<p><b>2. Food Donation Programs</b></p><ul><li>\n",
    "Partner with NGOs and food banks to donate surplus from restaurants, grocery stores, and events\n",
    "</li><li>\n",
    "Create apps or networks to share excess food with needy communities\n",
    "</ll></ul>\n",
    "<p><b> 3. Improve Supply Chain and Storage</b></p><ul><li>\n",
    "Invest in cold storage and better transportation for farmers\n",
    "</li><li>\n",
    "Encourage local sourcing to reduce spoilage during travel\n",
    "</li></ul>\n",
    "<p><b>4. Legal and Policy Measures\n",
    " </b></p><ul><li>  Encourage laws that penalize food wastage in commercial sectors\n",
    "</li><li>\n",
    "Provide tax benefits to businesses that donate food\n",
    "</li></ul></h2>\n"
   ]
  }
 ],
 "metadata": {
  "kernelspec": {
   "display_name": "Python 3",
   "language": "python",
   "name": "python3"
  },
  "language_info": {
   "name": "python",
   "version": "3.13.2"
  }
 },
 "nbformat": 4,
 "nbformat_minor": 5
}
