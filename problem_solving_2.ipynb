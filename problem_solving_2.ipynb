{
 "cells": [
  {
   "cell_type": "markdown",
   "id": "8eab9fc7",
   "metadata": {},
   "source": [
    "<div style=\"background-color:rgb(31, 174, 222); padding: 10px; height: 70px; border-radius: 15px;\">\n",
    "    <div style=\"font-family: 'Georgia', serif; font-size: 20px; padding: 10px; text-align: right; position: absolute; right: 20px;\">\n",
    "        Deepika <br>\n",
    "        <span style=\"font-family: 'Arial', sans-serif;font-size: 12px; color: #0a0a0a;\">AIML Trainee | AI/ML bootcamp</span> <!--- Suhana | CodroidHub Private Limited | AI/ML Consultant --->\n",
    "    </div>\n",
    "</div>"
   ]
  },
  {
   "cell_type": "markdown",
   "id": "c8afa657",
   "metadata": {},
   "source": [
    "<div style=\"background-color: #002147; padding: 10px; text-align: center; color: white; font-size: 32px; font-family: 'Arial', sans-serif;\">\n",
    "     Real-World Scenario: Lack of Employee Motivation <br>\n",
    "    <h3 style=\"text-align: center; color: white; font-size: 15px; font-family: 'Arial', sans-serif;\">Problem_2</h3>\n",
    "</div>"
   ]
  },
  {
   "cell_type": "markdown",
   "id": "42e74bba",
   "metadata": {},
   "source": [
    "<div style=\"background-color: #6495ED; color: black; padding: 4px;\">\n",
    "<h1> Problem Statement:</h1></div>\n",
    "<h2><p>Employees in the organization are experiencing low motivation, which is negatively impacting their performance, engagement, and overall productivity. This issue is primarily caused by a lack of recognition, limited career advancement opportunities, and minimal involvement in decision-making processes.\n",
    "\n",
    "</p></h2>"
   ]
  },
  {
   "cell_type": "markdown",
   "id": "076a8b2e",
   "metadata": {},
   "source": [
    "<div style=\"background-color: #6495ED; color: black; padding: 4px;\">\n",
    "    <h1> 4W's Problem Scoping\n",
    "</h1> </div>\n"
   ]
  },
  {
   "cell_type": "markdown",
   "id": "a093ac21",
   "metadata": {},
   "source": [
    "<div style=\"background-color: lightgreen; color: black; padding: 4px;\">\n",
    "<h1><ul><li>\n",
    "What is the problem?\n",
    "</li></ul>\n",
    "</h1></div>"
   ]
  },
  {
   "cell_type": "markdown",
   "id": "e56ef1dc",
   "metadata": {},
   "source": [
    "<h2><p>Employees at a mid-sized software development company are increasingly disengaged and showing low motivation. Productivity has declined, and tasks are being delayed without strong reasons.</p></h2>\n",
    "\n"
   ]
  },
  {
   "cell_type": "markdown",
   "id": "a608693c",
   "metadata": {},
   "source": [
    "<div style=\"background-color: lightgreen; color: black; padding: 4px;\">\n",
    "<h1><ul><li>\n",
    "Where is the problem occurring?\n",
    "</li></ul>\n",
    "</h1></div>"
   ]
  },
  {
   "cell_type": "markdown",
   "id": "6e65a0ac",
   "metadata": {},
   "source": [
    "<h2><p>At \"TechNova Solutions,\" a software company based in Bangalore, specifically within the backend development and testing teams.\n",
    "\n",
    "</p></h2>"
   ]
  },
  {
   "cell_type": "markdown",
   "id": "05abcfc5",
   "metadata": {},
   "source": [
    "<div style=\"background-color: lightgreen; color: black; padding: 4px;\">\n",
    "<h1><ul><li>\n",
    "When is the problem occurring?\n",
    "</li></ul>\n",
    "</h1></div>"
   ]
  },
  {
   "cell_type": "markdown",
   "id": "aef3dfbd",
   "metadata": {},
   "source": [
    "<h2><p>Over the past six months, especially after a major product launch, when the workload became monotonous and there were fewer new projects.</p></h2>"
   ]
  },
  {
   "cell_type": "markdown",
   "id": "5d5498be",
   "metadata": {},
   "source": [
    "<div style=\"background-color: lightgreen; color: black; padding: 4px;\">\n",
    "<h1><ul><li>\n",
    "Why is the problem important?\n",
    "</li></ul>\n",
    "</h1></div>"
   ]
  },
  {
   "cell_type": "markdown",
   "id": "f6fbc407",
   "metadata": {},
   "source": [
    "<h2><p>Low motivation has led to missed project deadlines, a spike in absenteeism, and two high-performing team members have recently quit. If this continues, the company risks losing more talent and client satisfaction may decline.</p></h2>"
   ]
  },
  {
   "cell_type": "markdown",
   "id": "1c0f8575",
   "metadata": {},
   "source": [
    "<div style=\"background-color: #6495ED; color: black; padding: 4px;\">\n",
    "    <h1>  Solution:</h1> </div>\n"
   ]
  },
  {
   "cell_type": "markdown",
   "id": "84b67b7b",
   "metadata": {},
   "source": [
    "<h3><p><ol>\n",
    "<li><b>Employee Feedback & Recognition Program:-</b> Conduct monthly feedback sessions and introduce a recognition platform (like an “Employee of the Month” or peer-recognition points system) to appreciate good work.</li>\n",
    "<li><b>Career Development Initiatives:-</b>Offer online upskilling courses, mentorship programs, and internal project rotations to keep the work dynamic and engaging.</li>\n",
    "<li><b>Clear Growth Paths & Incentives:-</b>Work with HR to map clear growth paths and link individual performance to tangible rewards like bonuses, promotions, or flexible work options.</li>\n",
    "<li><b>Team Engagement Activities:-</b>Introduce short team-building sessions, innovation challenges, and casual workdays to boost morale and break routine.</li>\n",
    "\n",
    "</ol></h3>"
   ]
  },
  {
   "cell_type": "markdown",
   "id": "b6f2bb1e",
   "metadata": {},
   "source": [
    "<div style=\"background-color: rgb(31, 174, 222); color: white; padding: 10px; text-align: center;\">\n",
    "    <h1>_________________________________END________________________________\n",
    "    </h1> </div>"
   ]
  },
  {
   "cell_type": "markdown",
   "id": "2e3ae8fd",
   "metadata": {},
   "source": [
    "<div style=\"background-color: #002147; color: #fff; padding: 30px; text-align: center;\">\n",
    "    <h1>THANK YOU!       \n",
    "</h1> </div>"
   ]
  }
 ],
 "metadata": {
  "language_info": {
   "name": "python"
  }
 },
 "nbformat": 4,
 "nbformat_minor": 5
}
